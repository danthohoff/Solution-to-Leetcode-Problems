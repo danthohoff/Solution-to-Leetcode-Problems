{
 "cells": [
  {
   "cell_type": "markdown",
   "metadata": {},
   "source": [
    "## Problem 1 - Two Sum\n",
    "\n",
    "Given an array of integers nums and an integer target, return indices of the two numbers such that they add up to target.\n",
    "\n",
    "You may assume that each input would have exactly one solution, and you may not use the same element twice.\n",
    "\n",
    "You can return the answer in any order."
   ]
  },
  {
   "cell_type": "code",
   "execution_count": 118,
   "metadata": {},
   "outputs": [],
   "source": [
    "\n",
    "def twoSum( nums , target: int):\n",
    "    for i in range(len(nums)-1):\n",
    "        for j in range(1,len(nums),1):\n",
    "            if nums[i] + nums[j] == target:\n",
    "                return [i,j]\n",
    "            else:\n",
    "                i += 1\n",
    "                j += 1\n",
    "    return []\n"
   ]
  },
  {
   "cell_type": "code",
   "execution_count": 119,
   "metadata": {},
   "outputs": [],
   "source": [
    "#Optimized version\n",
    "def twoSum(nums , target: int):\n",
    "    num_index = []\n",
    "    for i in range(len(nums)):\n",
    "        if target - nums[i] in num_index:\n",
    "            return [num_index.index(target-nums[i]), i]\n",
    "        num_index.append(nums[i])\n",
    "    return []"
   ]
  },
  {
   "cell_type": "code",
   "execution_count": 120,
   "metadata": {},
   "outputs": [
    {
     "data": {
      "text/plain": [
       "[1, 2]"
      ]
     },
     "execution_count": 120,
     "metadata": {},
     "output_type": "execute_result"
    }
   ],
   "source": [
    "nums = [3,2,4] \n",
    "target = 6\n",
    "twoSum(nums, target)"
   ]
  },
  {
   "cell_type": "markdown",
   "metadata": {},
   "source": [
    "## Problem 9 - Palindrome Number\n",
    "\n",
    "Given an integer x, return true if x is a palindrome, and false otherwise.\n",
    "\n"
   ]
  },
  {
   "cell_type": "code",
   "execution_count": 121,
   "metadata": {},
   "outputs": [],
   "source": [
    "def isPalindrome(x):\n",
    "    x = [b for b in str(x)]\n",
    "    y = x\n",
    "    y.reverse()\n",
    "\n",
    "    return x == y #str(x) == str(x)[::-1]"
   ]
  },
  {
   "cell_type": "code",
   "execution_count": 122,
   "metadata": {},
   "outputs": [
    {
     "data": {
      "text/plain": [
       "True"
      ]
     },
     "execution_count": 122,
     "metadata": {},
     "output_type": "execute_result"
    }
   ],
   "source": [
    "isPalindrome(12344321)"
   ]
  },
  {
   "cell_type": "markdown",
   "metadata": {},
   "source": [
    "## Problem 13 -  Roman to Integer\n",
    "\n",
    "Roman numerals are represented by seven different symbols: I, V, X, L, C, D and M.\n",
    "For example, 2 is written as II in Roman numeral, just two ones added together. 12 is written as XII, which is simply X + II. The number 27 is written as XXVII, which is XX + V + II.\n",
    "\n",
    "Roman numerals are usually written largest to smallest from left to right. However, the numeral for four is not IIII. Instead, the number four is written as IV. Because the one is before the five we subtract it making four. The same principle applies to the number nine, which is written as IX. There are six instances where subtraction is used:\n",
    "\n",
    "-> I can be placed before V (5) and X (10) to make 4 and 9. \n",
    "\n",
    "-> X can be placed before L (50) and C (100) to make 40 and 90. \n",
    "\n",
    "-> C can be placed before D (500) and M (1000) to make 400 and 900.\n",
    "\n",
    "Given a roman numeral, convert it to an integer."
   ]
  },
  {
   "cell_type": "code",
   "execution_count": 26,
   "metadata": {},
   "outputs": [],
   "source": [
    "dicct = {'I':1, \n",
    "'V':5, \n",
    "'X':10, \n",
    "'L':50, \n",
    "'C':100, \n",
    "'D':500, \n",
    "'M':1000} \n",
    "\n",
    "def romanRoInt(s: str):\n",
    "    if s in dicct:\n",
    "        return dicct[s]\n",
    "\n",
    "    l = [x for x in s]\n",
    "    min1, min2, min3 = 0,0,0\n",
    "    for i in range(1, len(l)):\n",
    "        if (l[i] == 'V' or l[i] == 'X') and l[i-1] == 'I':\n",
    "            min1 += dicct['I'] \n",
    "            #i += 1\n",
    "        elif (l[i] == 'L' or l[i] == 'C') and l[i-1] == 'X':\n",
    "            min2 += dicct['X'] \n",
    "            #i += 1\n",
    "        elif (l[i] == 'D' or l[i] == 'M') and l[i-1] == 'C':\n",
    "            min3 += dicct['C'] \n",
    "            #i += 1\n",
    "\n",
    "    return sum(dicct[f] for f in l) - 2*min1 -2*min2 -2*min3"
   ]
  },
  {
   "cell_type": "code",
   "execution_count": 28,
   "metadata": {},
   "outputs": [],
   "source": [
    "def romanRoInt(s: str):\n",
    "    if s in dicct:\n",
    "        return dicct[s]\n",
    "\n",
    "    s = s.replace(\"IV\", \"IIII\").replace(\"IX\", \"VIIII\")\n",
    "    s = s.replace(\"XL\", \"XXXX\").replace(\"XC\", \"LXXXX\")\n",
    "    s = s.replace(\"CD\", \"CCCC\").replace(\"CM\", \"DCCCC\")\n",
    "\n",
    "    l = [x for x in s]\n",
    "\n",
    "    return sum(dicct[f] for f in l)"
   ]
  },
  {
   "cell_type": "code",
   "execution_count": 29,
   "metadata": {},
   "outputs": [
    {
     "data": {
      "text/plain": [
       "1994"
      ]
     },
     "execution_count": 29,
     "metadata": {},
     "output_type": "execute_result"
    }
   ],
   "source": [
    "romanRoInt(\"MCMXCIV\")"
   ]
  },
  {
   "cell_type": "markdown",
   "metadata": {},
   "source": [
    "## Problem 14 - Longest Common Prefix\n",
    "\n",
    "Write a function to find the longest common prefix string amongst an array of strings.\n",
    "\n",
    "If there is no common prefix, return an empty string \"\"."
   ]
  },
  {
   "cell_type": "code",
   "execution_count": 80,
   "metadata": {},
   "outputs": [],
   "source": [
    "def longestCommonPrefix(strs: list[str]):\n",
    "    if [strs[0]]*len(strs) == strs:\n",
    "        return strs[0]\n",
    "\n",
    "    listi = []\n",
    "\n",
    "    for j in range(len(strs[0])):\n",
    "        listi = []\n",
    "        for i in range(len(strs)):\n",
    "            listi.append(strs[i][:j])\n",
    "        if [listi[0]]*len(listi) == listi:\n",
    "            j += 1\n",
    "        else:\n",
    "            listi = []\n",
    "            listi.append(strs[i][:j-1])\n",
    "            return listi[0]"
   ]
  },
  {
   "cell_type": "code",
   "execution_count": 81,
   "metadata": {},
   "outputs": [
    {
     "data": {
      "text/plain": [
       "'fl'"
      ]
     },
     "execution_count": 81,
     "metadata": {},
     "output_type": "execute_result"
    }
   ],
   "source": [
    "strs = [\"flower\",\"flow\",\"flight\"]\n",
    "longestCommonPrefix(strs)"
   ]
  },
  {
   "cell_type": "code",
   "execution_count": 82,
   "metadata": {},
   "outputs": [
    {
     "data": {
      "text/plain": [
       "''"
      ]
     },
     "execution_count": 82,
     "metadata": {},
     "output_type": "execute_result"
    }
   ],
   "source": [
    "strs = [\"dog\",\"racecar\",\"car\"]\n",
    "longestCommonPrefix(strs)"
   ]
  },
  {
   "cell_type": "code",
   "execution_count": 86,
   "metadata": {},
   "outputs": [
    {
     "name": "stdout",
     "output_type": "stream",
     "text": [
      "[('f', 'f', 'f'), ('l', 'l', 'l'), ('o', 'o', 'i'), ('w', 'w', 'g')]\n",
      "('f', 'f', 'f')\n",
      "['f']\n"
     ]
    }
   ],
   "source": [
    "strs = [\"flower\",\"flow\",\"flight\"]\n",
    "l = list(zip(*strs))\n",
    "print(l)\n",
    "print(l[0])\n",
    "print(list(l[0][0]))"
   ]
  },
  {
   "cell_type": "markdown",
   "metadata": {},
   "source": [
    "## Problem 20 - Valid Parentheses\n",
    "\n",
    "Given a string s containing just the characters '(', ')', '{', '}', '[' and ']', determine if the input string is valid.\n",
    "\n",
    "An input string is valid if:\n",
    "\n",
    "Open brackets must be closed by the same type of brackets.\n",
    "Open brackets must be closed in the correct order.\n",
    "Every close bracket has a corresponding open bracket of the same type."
   ]
  },
  {
   "cell_type": "code",
   "execution_count": 141,
   "metadata": {},
   "outputs": [],
   "source": [
    "def isValid(s:str) -> bool:\n",
    "    s = [d for d in s]\n",
    "    if len(s)%2 != 0:\n",
    "        return False\n",
    "    while len(s) != 0:\n",
    "        a = s.pop(0)\n",
    "        b = s.pop(0)\n",
    "        if (a == '(' and b == ')') or (a == '{' and b == '}') or (a == '[' and b == ']'):\n",
    "            continue\n",
    "        else:\n",
    "            return False\n",
    "\n",
    "\n",
    "    return True"
   ]
  },
  {
   "cell_type": "code",
   "execution_count": 146,
   "metadata": {},
   "outputs": [
    {
     "data": {
      "text/plain": [
       "True"
      ]
     },
     "execution_count": 146,
     "metadata": {},
     "output_type": "execute_result"
    }
   ],
   "source": [
    "s = \"()[]{}\"\n",
    "isValid(s)\n"
   ]
  },
  {
   "cell_type": "code",
   "execution_count": null,
   "metadata": {},
   "outputs": [],
   "source": []
  }
 ],
 "metadata": {
  "kernelspec": {
   "display_name": "Python 3 (ipykernel)",
   "language": "python",
   "name": "python3"
  },
  "language_info": {
   "codemirror_mode": {
    "name": "ipython",
    "version": 3
   },
   "file_extension": ".py",
   "mimetype": "text/x-python",
   "name": "python",
   "nbconvert_exporter": "python",
   "pygments_lexer": "ipython3",
   "version": "3.9.15"
  },
  "vscode": {
   "interpreter": {
    "hash": "5637242735df105300a10f363d5c0d18b4b77d7105ef62addc8c3980e22cd89c"
   }
  }
 },
 "nbformat": 4,
 "nbformat_minor": 2
}

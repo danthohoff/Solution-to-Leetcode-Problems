{
 "cells": [
  {
   "cell_type": "markdown",
   "metadata": {},
   "source": [
    "## Problem 2 - Add Two Numbers\n",
    "\n",
    "You are given two non-empty linked lists representing two non-negative integers. The digits are stored in reverse order, and each of their nodes contains a single digit. Add the two numbers and return the sum as a linked list.\n",
    "\n",
    "You may assume the two numbers do not contain any leading zero, except the number 0 itself."
   ]
  },
  {
   "cell_type": "code",
   "execution_count": 5,
   "metadata": {},
   "outputs": [],
   "source": [
    "def addTwoNumbers(listi1, listi2):\n",
    "    listi1.reverse()\n",
    "    listi2.reverse()\n",
    "    \n",
    "    num1 = int(\"\".join(map(str, listi1)))\n",
    "    num2 = int(\"\".join(map(str, listi2)))\n",
    "    \n",
    "    res = str(num1 + num2)\n",
    "    \n",
    "    listi = [int(x) for x in res]\n",
    "    listi.reverse()\n",
    "    \n",
    "    return listi"
   ]
  },
  {
   "cell_type": "code",
   "execution_count": 9,
   "metadata": {},
   "outputs": [
    {
     "name": "stdout",
     "output_type": "stream",
     "text": [
      "[7, 0, 8]\n",
      "[8, 9, 9, 9, 0, 0, 0, 1]\n"
     ]
    }
   ],
   "source": [
    "l1 = [2,4,3] \n",
    "l2 = [5,6,4]\n",
    "l3 = [9,9,9,9,9,9,9] \n",
    "l4 = [9,9,9,9]\n",
    "\n",
    "print(addTwoNumbers(l1,l2))\n",
    "print(addTwoNumbers(l3,l4))"
   ]
  },
  {
   "cell_type": "markdown",
   "metadata": {},
   "source": [
    "## Problem 3 - Longest Substring Without Repeating Characters\n",
    "\n",
    "Given a string s, find the length of the longest \n",
    "substring\n",
    " without repeating characters."
   ]
  },
  {
   "cell_type": "code",
   "execution_count": 12,
   "metadata": {},
   "outputs": [],
   "source": [
    "def lengthOfLongestSubstring(s: str) -> int:\n",
    "    listi = [x for x in s]\n",
    "    new_listi = []\n",
    "\n",
    "    while len(listi) !=0:\n",
    "        d = listi.pop(0)\n",
    "        if d in new_listi:\n",
    "            return len(new_listi)\n",
    "        new_listi.append(d)\n",
    "\n",
    "    return len(new_listi)"
   ]
  },
  {
   "cell_type": "code",
   "execution_count": 14,
   "metadata": {},
   "outputs": [
    {
     "data": {
      "text/plain": [
       "2"
      ]
     },
     "execution_count": 14,
     "metadata": {},
     "output_type": "execute_result"
    }
   ],
   "source": [
    "s = \"pwwkew\"\n",
    "\n",
    "lengthOfLongestSubstring(s)"
   ]
  },
  {
   "attachments": {},
   "cell_type": "markdown",
   "metadata": {},
   "source": [
    "## Problem 5 - Longest Palindromic Substring\n",
    "\n",
    "Given a string s, return the longest palindromic substring in s."
   ]
  },
  {
   "cell_type": "code",
   "execution_count": 16,
   "metadata": {},
   "outputs": [],
   "source": [
    "def get_palindrome(s: str, lef: int, righ: int) -> str:\n",
    "    while lef >= 0 and righ < len(s) and s[lef] == s[righ]:\n",
    "        lef -= 1\n",
    "        righ += 1\n",
    "    return s[lef+1:righ] #right border is closed\n",
    "\n",
    "def longestPalindrome(s: str) -> str:\n",
    "    pali = ''\n",
    "    for i in range(len(s)):\n",
    "        pali1 = get_palindrome(s, i, i+1)\n",
    "        pali2 = get_palindrome(s, i, i)\n",
    "        pali = max([pali, pali1, pali2], key=len)\n",
    "\n",
    "    if len(pali) == 1:\n",
    "        return ''\n",
    "    else: return pali\n",
    "    \n",
    "\n",
    "\n"
   ]
  },
  {
   "cell_type": "code",
   "execution_count": 17,
   "metadata": {},
   "outputs": [
    {
     "data": {
      "text/plain": [
       "''"
      ]
     },
     "execution_count": 17,
     "metadata": {},
     "output_type": "execute_result"
    }
   ],
   "source": [
    "h = \"afgnhui\"\n",
    "longestPalindrome(h)"
   ]
  },
  {
   "attachments": {},
   "cell_type": "markdown",
   "metadata": {},
   "source": [
    "## Porblem 6 - Zigzag Conversion\n",
    "\n",
    "The string \"PAYPALISHIRING\" is written in a zigzag pattern on a given number of rows like this: (you may want to display this pattern in a fixed font for better legibility)"
   ]
  },
  {
   "cell_type": "code",
   "execution_count": 12,
   "metadata": {},
   "outputs": [
    {
     "data": {
      "text/plain": [
       "[0, 1, 2, 3, 2, 1, 0, 1, 2, 3, 2, 1]"
      ]
     },
     "execution_count": 12,
     "metadata": {},
     "output_type": "execute_result"
    }
   ],
   "source": [
    "def zorder(n, lenght):\n",
    "\n",
    "    listi = []\n",
    "    \n",
    "    while len(listi) < lenght:\n",
    "        for i in range(0,n-1,1):\n",
    "            listi.append(i)\n",
    "        for i in range(n-1, 0, -1):\n",
    "            listi.append(i)\n",
    "    \n",
    "    return listi\n",
    "\n",
    "zorder(4,10)\n",
    "\n"
   ]
  },
  {
   "cell_type": "code",
   "execution_count": 36,
   "metadata": {},
   "outputs": [],
   "source": [
    "def zigzag(s: str, n: int):\n",
    "\n",
    "    listOfLists = [[] for i in range(n)]\n",
    "    s = [x for x in s]\n",
    "\n",
    "    while len(s) !=0:\n",
    "\n",
    "        for i in range(0,n-1,1):\n",
    "            if len(s) !=0:\n",
    "                x = s.pop(0)\n",
    "                listOfLists[i].append(x)\n",
    "            else: break \n",
    "        for i in range(n-1, 0, -1):\n",
    "            if len(s) !=0:\n",
    "                x = s.pop(0)\n",
    "                listOfLists[i].append(x)\n",
    "            else: break\n",
    "\n",
    "    result = sum(listOfLists, [])\n",
    "    final = str(''.join(result))\n",
    "\n",
    "    return final\n",
    "\n",
    "    \n",
    "\n"
   ]
  },
  {
   "cell_type": "code",
   "execution_count": 37,
   "metadata": {},
   "outputs": [
    {
     "data": {
      "text/plain": [
       "'PAHNAPLSIIGYIR'"
      ]
     },
     "execution_count": 37,
     "metadata": {},
     "output_type": "execute_result"
    }
   ],
   "source": [
    "s = \"PAYPALISHIRING\"\n",
    "numRows = 3\n",
    "\n",
    "zigzag(s, numRows)"
   ]
  },
  {
   "attachments": {},
   "cell_type": "markdown",
   "metadata": {},
   "source": [
    "## Problem 7 - Reverse Integer\n",
    "\n",
    "Given a signed 32-bit integer x, return x with its digits reversed. If reversing x causes the value to go outside the signed 32-bit integer range [-231, 231 - 1], then return 0.\n",
    "\n",
    "Assume the environment does not allow you to store 64-bit integers (signed or unsigned)."
   ]
  },
  {
   "cell_type": "code",
   "execution_count": 25,
   "metadata": {},
   "outputs": [
    {
     "data": {
      "text/plain": [
       "-321"
      ]
     },
     "execution_count": 25,
     "metadata": {},
     "output_type": "execute_result"
    }
   ],
   "source": [
    "def reverse(x):\n",
    "    r = int(str(abs(x))[::-1])\n",
    "    return (-r if x < 0 else r) if r.bit_length() < 32 else 0\n",
    "\n",
    "reverse(-123)\n",
    "\n"
   ]
  },
  {
   "attachments": {},
   "cell_type": "markdown",
   "metadata": {},
   "source": [
    "## Problem 11 - Container With Most Water\n",
    "\n",
    "You are given an integer array height of length n. There are n vertical lines drawn such that the two endpoints of the ith line are (i, 0) and (i, height[i]).\n",
    "\n",
    "Find two lines that together with the x-axis form a container, such that the container contains the most water.\n",
    "\n",
    "Return the maximum amount of water a container can store.\n",
    "\n",
    "Notice that you may not slant the container."
   ]
  },
  {
   "cell_type": "code",
   "execution_count": 29,
   "metadata": {},
   "outputs": [],
   "source": [
    "def maxArea(height: list[int]) -> int:\n",
    "    listi = []\n",
    "    for i in range(len(height)):\n",
    "        for j in range(i+1, len(height)):\n",
    "            listi.append((j-i)*min(height[i], height[j]))\n",
    "\n",
    "    return max(listi)\n"
   ]
  },
  {
   "cell_type": "code",
   "execution_count": 30,
   "metadata": {},
   "outputs": [
    {
     "data": {
      "text/plain": [
       "49"
      ]
     },
     "execution_count": 30,
     "metadata": {},
     "output_type": "execute_result"
    }
   ],
   "source": [
    "maxArea([1,8,6,2,5,4,8,3,7])"
   ]
  },
  {
   "cell_type": "code",
   "execution_count": null,
   "metadata": {},
   "outputs": [],
   "source": []
  }
 ],
 "metadata": {
  "kernelspec": {
   "display_name": "base",
   "language": "python",
   "name": "python3"
  },
  "language_info": {
   "codemirror_mode": {
    "name": "ipython",
    "version": 3
   },
   "file_extension": ".py",
   "mimetype": "text/x-python",
   "name": "python",
   "nbconvert_exporter": "python",
   "pygments_lexer": "ipython3",
   "version": "3.9.15"
  },
  "vscode": {
   "interpreter": {
    "hash": "5637242735df105300a10f363d5c0d18b4b77d7105ef62addc8c3980e22cd89c"
   }
  }
 },
 "nbformat": 4,
 "nbformat_minor": 2
}
